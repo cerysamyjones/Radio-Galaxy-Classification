{
 "cells": [
  {
   "cell_type": "markdown",
   "metadata": {},
   "source": [
    "<font size = 3>This script is designed to help identify more AGN with jets from a list of all FIRST survey sources. Once potential candidates have been identified, these can be run through a classifying neural network to check if they are likely to be true AGN with jets. \n",
    "\n",
    "This will be helpful to check the success of the neural network, but also has the opportunity to greatly increase the size our existing training set of AGN with jets, which is very important for the accuracy of more complex neural networks."
   ]
  },
  {
   "cell_type": "code",
   "execution_count": 1,
   "metadata": {},
   "outputs": [],
   "source": [
    "from astropy.io import fits \n",
    "import numpy as np\n",
    "from selenium import webdriver\n",
    "import time\n",
    "from selenium.common.exceptions import NoSuchElementException\n",
    "import matplotlib.pyplot as plt"
   ]
  },
  {
   "cell_type": "code",
   "execution_count": 2,
   "metadata": {},
   "outputs": [
    {
     "ename": "FileNotFoundError",
     "evalue": "[Errno 2] No such file or directory: 'first_14dec17.fits'",
     "output_type": "error",
     "traceback": [
      "\u001b[1;31m---------------------------------------------------------------------------\u001b[0m",
      "\u001b[1;31mFileNotFoundError\u001b[0m                         Traceback (most recent call last)",
      "\u001b[1;32m<ipython-input-2-97ffe001ac16>\u001b[0m in \u001b[0;36m<module>\u001b[1;34m\u001b[0m\n\u001b[0;32m      1\u001b[0m \u001b[1;31m# Get data from fits file of all identified FIRST sources\u001b[0m\u001b[1;33m\u001b[0m\u001b[1;33m\u001b[0m\u001b[1;33m\u001b[0m\u001b[0m\n\u001b[1;32m----> 2\u001b[1;33m \u001b[0mhdulist\u001b[0m \u001b[1;33m=\u001b[0m \u001b[0mfits\u001b[0m\u001b[1;33m.\u001b[0m\u001b[0mopen\u001b[0m\u001b[1;33m(\u001b[0m\u001b[1;34m'first_14dec17.fits'\u001b[0m\u001b[1;33m)\u001b[0m\u001b[1;33m\u001b[0m\u001b[1;33m\u001b[0m\u001b[0m\n\u001b[0m\u001b[0;32m      3\u001b[0m \u001b[0md\u001b[0m \u001b[1;33m=\u001b[0m \u001b[0mhdulist\u001b[0m\u001b[1;33m[\u001b[0m\u001b[1;36m1\u001b[0m\u001b[1;33m]\u001b[0m\u001b[1;33m.\u001b[0m\u001b[0mdata\u001b[0m\u001b[1;33m\u001b[0m\u001b[1;33m\u001b[0m\u001b[0m\n\u001b[0;32m      4\u001b[0m \u001b[0mn\u001b[0m \u001b[1;33m=\u001b[0m \u001b[1;36m100000\u001b[0m \u001b[1;31m# Number of sources we want to look through\u001b[0m\u001b[1;33m\u001b[0m\u001b[1;33m\u001b[0m\u001b[0m\n\u001b[0;32m      5\u001b[0m \u001b[1;33m\u001b[0m\u001b[0m\n",
      "\u001b[1;32m~\\Anaconda3\\lib\\site-packages\\astropy\\io\\fits\\hdu\\hdulist.py\u001b[0m in \u001b[0;36mfitsopen\u001b[1;34m(name, mode, memmap, save_backup, cache, lazy_load_hdus, **kwargs)\u001b[0m\n\u001b[0;32m    149\u001b[0m \u001b[1;33m\u001b[0m\u001b[0m\n\u001b[0;32m    150\u001b[0m     return HDUList.fromfile(name, mode, memmap, save_backup, cache,\n\u001b[1;32m--> 151\u001b[1;33m                             lazy_load_hdus, **kwargs)\n\u001b[0m\u001b[0;32m    152\u001b[0m \u001b[1;33m\u001b[0m\u001b[0m\n\u001b[0;32m    153\u001b[0m \u001b[1;33m\u001b[0m\u001b[0m\n",
      "\u001b[1;32m~\\Anaconda3\\lib\\site-packages\\astropy\\io\\fits\\hdu\\hdulist.py\u001b[0m in \u001b[0;36mfromfile\u001b[1;34m(cls, fileobj, mode, memmap, save_backup, cache, lazy_load_hdus, **kwargs)\u001b[0m\n\u001b[0;32m    388\u001b[0m         return cls._readfrom(fileobj=fileobj, mode=mode, memmap=memmap,\n\u001b[0;32m    389\u001b[0m                              \u001b[0msave_backup\u001b[0m\u001b[1;33m=\u001b[0m\u001b[0msave_backup\u001b[0m\u001b[1;33m,\u001b[0m \u001b[0mcache\u001b[0m\u001b[1;33m=\u001b[0m\u001b[0mcache\u001b[0m\u001b[1;33m,\u001b[0m\u001b[1;33m\u001b[0m\u001b[1;33m\u001b[0m\u001b[0m\n\u001b[1;32m--> 390\u001b[1;33m                              lazy_load_hdus=lazy_load_hdus, **kwargs)\n\u001b[0m\u001b[0;32m    391\u001b[0m \u001b[1;33m\u001b[0m\u001b[0m\n\u001b[0;32m    392\u001b[0m     \u001b[1;33m@\u001b[0m\u001b[0mclassmethod\u001b[0m\u001b[1;33m\u001b[0m\u001b[1;33m\u001b[0m\u001b[0m\n",
      "\u001b[1;32m~\\Anaconda3\\lib\\site-packages\\astropy\\io\\fits\\hdu\\hdulist.py\u001b[0m in \u001b[0;36m_readfrom\u001b[1;34m(cls, fileobj, data, mode, memmap, save_backup, cache, lazy_load_hdus, **kwargs)\u001b[0m\n\u001b[0;32m   1037\u001b[0m             \u001b[1;32mif\u001b[0m \u001b[1;32mnot\u001b[0m \u001b[0misinstance\u001b[0m\u001b[1;33m(\u001b[0m\u001b[0mfileobj\u001b[0m\u001b[1;33m,\u001b[0m \u001b[0m_File\u001b[0m\u001b[1;33m)\u001b[0m\u001b[1;33m:\u001b[0m\u001b[1;33m\u001b[0m\u001b[1;33m\u001b[0m\u001b[0m\n\u001b[0;32m   1038\u001b[0m                 \u001b[1;31m# instantiate a FITS file object (ffo)\u001b[0m\u001b[1;33m\u001b[0m\u001b[1;33m\u001b[0m\u001b[1;33m\u001b[0m\u001b[0m\n\u001b[1;32m-> 1039\u001b[1;33m                 \u001b[0mfileobj\u001b[0m \u001b[1;33m=\u001b[0m \u001b[0m_File\u001b[0m\u001b[1;33m(\u001b[0m\u001b[0mfileobj\u001b[0m\u001b[1;33m,\u001b[0m \u001b[0mmode\u001b[0m\u001b[1;33m=\u001b[0m\u001b[0mmode\u001b[0m\u001b[1;33m,\u001b[0m \u001b[0mmemmap\u001b[0m\u001b[1;33m=\u001b[0m\u001b[0mmemmap\u001b[0m\u001b[1;33m,\u001b[0m \u001b[0mcache\u001b[0m\u001b[1;33m=\u001b[0m\u001b[0mcache\u001b[0m\u001b[1;33m)\u001b[0m\u001b[1;33m\u001b[0m\u001b[1;33m\u001b[0m\u001b[0m\n\u001b[0m\u001b[0;32m   1040\u001b[0m             \u001b[1;31m# The Astropy mode is determined by the _File initializer if the\u001b[0m\u001b[1;33m\u001b[0m\u001b[1;33m\u001b[0m\u001b[1;33m\u001b[0m\u001b[0m\n\u001b[0;32m   1041\u001b[0m             \u001b[1;31m# supplied mode was None\u001b[0m\u001b[1;33m\u001b[0m\u001b[1;33m\u001b[0m\u001b[1;33m\u001b[0m\u001b[0m\n",
      "\u001b[1;32m~\\Anaconda3\\lib\\site-packages\\astropy\\utils\\decorators.py\u001b[0m in \u001b[0;36mwrapper\u001b[1;34m(*args, **kwargs)\u001b[0m\n\u001b[0;32m    519\u001b[0m                             \u001b[0mkwargs\u001b[0m\u001b[1;33m[\u001b[0m\u001b[0mnew_name\u001b[0m\u001b[1;33m[\u001b[0m\u001b[0mi\u001b[0m\u001b[1;33m]\u001b[0m\u001b[1;33m]\u001b[0m \u001b[1;33m=\u001b[0m \u001b[0mvalue\u001b[0m\u001b[1;33m\u001b[0m\u001b[1;33m\u001b[0m\u001b[0m\n\u001b[0;32m    520\u001b[0m \u001b[1;33m\u001b[0m\u001b[0m\n\u001b[1;32m--> 521\u001b[1;33m             \u001b[1;32mreturn\u001b[0m \u001b[0mfunction\u001b[0m\u001b[1;33m(\u001b[0m\u001b[1;33m*\u001b[0m\u001b[0margs\u001b[0m\u001b[1;33m,\u001b[0m \u001b[1;33m**\u001b[0m\u001b[0mkwargs\u001b[0m\u001b[1;33m)\u001b[0m\u001b[1;33m\u001b[0m\u001b[1;33m\u001b[0m\u001b[0m\n\u001b[0m\u001b[0;32m    522\u001b[0m \u001b[1;33m\u001b[0m\u001b[0m\n\u001b[0;32m    523\u001b[0m         \u001b[1;32mreturn\u001b[0m \u001b[0mwrapper\u001b[0m\u001b[1;33m\u001b[0m\u001b[1;33m\u001b[0m\u001b[0m\n",
      "\u001b[1;32m~\\Anaconda3\\lib\\site-packages\\astropy\\io\\fits\\file.py\u001b[0m in \u001b[0;36m__init__\u001b[1;34m(self, fileobj, mode, memmap, overwrite, cache)\u001b[0m\n\u001b[0;32m    176\u001b[0m             \u001b[0mself\u001b[0m\u001b[1;33m.\u001b[0m\u001b[0m_open_fileobj\u001b[0m\u001b[1;33m(\u001b[0m\u001b[0mfileobj\u001b[0m\u001b[1;33m,\u001b[0m \u001b[0mmode\u001b[0m\u001b[1;33m,\u001b[0m \u001b[0moverwrite\u001b[0m\u001b[1;33m)\u001b[0m\u001b[1;33m\u001b[0m\u001b[1;33m\u001b[0m\u001b[0m\n\u001b[0;32m    177\u001b[0m         \u001b[1;32melif\u001b[0m \u001b[0misinstance\u001b[0m\u001b[1;33m(\u001b[0m\u001b[0mfileobj\u001b[0m\u001b[1;33m,\u001b[0m \u001b[0mstr\u001b[0m\u001b[1;33m)\u001b[0m\u001b[1;33m:\u001b[0m\u001b[1;33m\u001b[0m\u001b[1;33m\u001b[0m\u001b[0m\n\u001b[1;32m--> 178\u001b[1;33m             \u001b[0mself\u001b[0m\u001b[1;33m.\u001b[0m\u001b[0m_open_filename\u001b[0m\u001b[1;33m(\u001b[0m\u001b[0mfileobj\u001b[0m\u001b[1;33m,\u001b[0m \u001b[0mmode\u001b[0m\u001b[1;33m,\u001b[0m \u001b[0moverwrite\u001b[0m\u001b[1;33m)\u001b[0m\u001b[1;33m\u001b[0m\u001b[1;33m\u001b[0m\u001b[0m\n\u001b[0m\u001b[0;32m    179\u001b[0m         \u001b[1;32melse\u001b[0m\u001b[1;33m:\u001b[0m\u001b[1;33m\u001b[0m\u001b[1;33m\u001b[0m\u001b[0m\n\u001b[0;32m    180\u001b[0m             \u001b[0mself\u001b[0m\u001b[1;33m.\u001b[0m\u001b[0m_open_filelike\u001b[0m\u001b[1;33m(\u001b[0m\u001b[0mfileobj\u001b[0m\u001b[1;33m,\u001b[0m \u001b[0mmode\u001b[0m\u001b[1;33m,\u001b[0m \u001b[0moverwrite\u001b[0m\u001b[1;33m)\u001b[0m\u001b[1;33m\u001b[0m\u001b[1;33m\u001b[0m\u001b[0m\n",
      "\u001b[1;32m~\\Anaconda3\\lib\\site-packages\\astropy\\io\\fits\\file.py\u001b[0m in \u001b[0;36m_open_filename\u001b[1;34m(self, filename, mode, overwrite)\u001b[0m\n\u001b[0;32m    553\u001b[0m \u001b[1;33m\u001b[0m\u001b[0m\n\u001b[0;32m    554\u001b[0m         \u001b[1;32mif\u001b[0m \u001b[1;32mnot\u001b[0m \u001b[0mself\u001b[0m\u001b[1;33m.\u001b[0m\u001b[0m_try_read_compressed\u001b[0m\u001b[1;33m(\u001b[0m\u001b[0mself\u001b[0m\u001b[1;33m.\u001b[0m\u001b[0mname\u001b[0m\u001b[1;33m,\u001b[0m \u001b[0mmagic\u001b[0m\u001b[1;33m,\u001b[0m \u001b[0mmode\u001b[0m\u001b[1;33m,\u001b[0m \u001b[0mext\u001b[0m\u001b[1;33m=\u001b[0m\u001b[0mext\u001b[0m\u001b[1;33m)\u001b[0m\u001b[1;33m:\u001b[0m\u001b[1;33m\u001b[0m\u001b[1;33m\u001b[0m\u001b[0m\n\u001b[1;32m--> 555\u001b[1;33m             \u001b[0mself\u001b[0m\u001b[1;33m.\u001b[0m\u001b[0m_file\u001b[0m \u001b[1;33m=\u001b[0m \u001b[0mfileobj_open\u001b[0m\u001b[1;33m(\u001b[0m\u001b[0mself\u001b[0m\u001b[1;33m.\u001b[0m\u001b[0mname\u001b[0m\u001b[1;33m,\u001b[0m \u001b[0mIO_FITS_MODES\u001b[0m\u001b[1;33m[\u001b[0m\u001b[0mmode\u001b[0m\u001b[1;33m]\u001b[0m\u001b[1;33m)\u001b[0m\u001b[1;33m\u001b[0m\u001b[1;33m\u001b[0m\u001b[0m\n\u001b[0m\u001b[0;32m    556\u001b[0m             \u001b[0mself\u001b[0m\u001b[1;33m.\u001b[0m\u001b[0mclose_on_error\u001b[0m \u001b[1;33m=\u001b[0m \u001b[1;32mTrue\u001b[0m\u001b[1;33m\u001b[0m\u001b[1;33m\u001b[0m\u001b[0m\n\u001b[0;32m    557\u001b[0m \u001b[1;33m\u001b[0m\u001b[0m\n",
      "\u001b[1;32m~\\Anaconda3\\lib\\site-packages\\astropy\\io\\fits\\util.py\u001b[0m in \u001b[0;36mfileobj_open\u001b[1;34m(filename, mode)\u001b[0m\n\u001b[0;32m    395\u001b[0m     \"\"\"\n\u001b[0;32m    396\u001b[0m \u001b[1;33m\u001b[0m\u001b[0m\n\u001b[1;32m--> 397\u001b[1;33m     \u001b[1;32mreturn\u001b[0m \u001b[0mopen\u001b[0m\u001b[1;33m(\u001b[0m\u001b[0mfilename\u001b[0m\u001b[1;33m,\u001b[0m \u001b[0mmode\u001b[0m\u001b[1;33m,\u001b[0m \u001b[0mbuffering\u001b[0m\u001b[1;33m=\u001b[0m\u001b[1;36m0\u001b[0m\u001b[1;33m)\u001b[0m\u001b[1;33m\u001b[0m\u001b[1;33m\u001b[0m\u001b[0m\n\u001b[0m\u001b[0;32m    398\u001b[0m \u001b[1;33m\u001b[0m\u001b[0m\n\u001b[0;32m    399\u001b[0m \u001b[1;33m\u001b[0m\u001b[0m\n",
      "\u001b[1;31mFileNotFoundError\u001b[0m: [Errno 2] No such file or directory: 'first_14dec17.fits'"
     ]
    }
   ],
   "source": [
    "# Get data from fits file of all identified FIRST sources\n",
    "hdulist = fits.open('first_14dec17.fits')\n",
    "d = hdulist[1].data\n",
    "n = 100000 # Number of sources we want to look through\n",
    "\n",
    "ra = np.empty(n)\n",
    "for i in range(n):\n",
    "    ra[i] = (d[i])[0] #convert to hours\n",
    "ra = ra/15\n",
    "\n",
    "dec = np.empty(n)\n",
    "for i in range(n):\n",
    "    dec[i] = (d[i])[1] #in degrees\n",
    "    \n",
    "fpeak = np.empty(n)\n",
    "for i in range(n):\n",
    "    fpeak[i] = (d[i])[3]\n",
    "    \n",
    "fint = np.empty(n)\n",
    "for i in range(n):\n",
    "    fint[i] = (d[i])[4]\n",
    "    \n",
    "major = np.empty(n)\n",
    "for i in range(n):\n",
    "    major[i] = (d[i])[9]\n",
    "   \n",
    "minor = np.empty(n)\n",
    "for i in range(n):\n",
    "    minor[i] = (d[i])[10]"
   ]
  },
  {
   "cell_type": "markdown",
   "metadata": {},
   "source": [
    "<font size = 3>From a preliminary search through the data, it became clear that most of the potential AGN with jets in the survey have had each lobe identified as a seperate sources. \n",
    "\n",
    "By plotting the distance to the nearest neighbours of the sources, we can see a large spike around zero, showing that many sources exist that are very close together. These are very likely candidates for AGN with jets so these are the sources we should focus on."
   ]
  },
  {
   "cell_type": "code",
   "execution_count": 3,
   "metadata": {},
   "outputs": [],
   "source": [
    "d = []\n",
    "indexes = [] \n",
    "\n",
    "for m in range(100000):\n",
    "    dec_dist = dec - dec[m]\n",
    "    ra_dist = ra - ra[m]\n",
    "    distance = np.sqrt(dec_dist**2+ra_dist**2)\n",
    "    distance[m] = 10*8\n",
    "    nearest_neighbour = np.min(distance)\n",
    "    d.append(nearest_neighbour)\n",
    "    if nearest_neighbour < 0.006:\n",
    "        i = np.argmin(distance)\n",
    "        indexes.append(i)\n",
    "        \n",
    "indexes = list(dict.fromkeys(indexes))\n",
    "len(indexes)\n",
    "\n",
    "dec = dec[indexes]\n",
    "ra = ra[indexes]\n",
    "major = major[indexes]\n",
    "minor = minor[indexes]\n",
    "fint = fint[indexes]\n",
    "fpeak = fpeak[indexes]"
   ]
  },
  {
   "cell_type": "code",
   "execution_count": 4,
   "metadata": {},
   "outputs": [
    {
     "data": {
      "image/png": "[encoded data removed]",
      "text/plain": [
       "<Figure size 432x288 with 1 Axes>"
      ]
     },
     "metadata": {
      "needs_background": "light"
     },
     "output_type": "display_data"
    }
   ],
   "source": [
    "plt.hist(d,bins=100)\n",
    "plt.axvline(0.006,color='purple')\n",
    "plt.show()"
   ]
  },
  {
   "cell_type": "markdown",
   "metadata": {},
   "source": [
    "<font size = 3>Conversely, we can also look at symmetry of sources and their spread to identify and remove point sources. However, this is not as accurate because some of AGN jets appear can appear very symmetrical and we don't want to lose thes sources in the process. "
   ]
  },
  {
   "cell_type": "code",
   "execution_count": 5,
   "metadata": {},
   "outputs": [
    {
     "name": "stdout",
     "output_type": "stream",
     "text": [
      "5722\n",
      "19188\n"
     ]
    }
   ],
   "source": [
    "#suspected point sources\n",
    "ps = []\n",
    "#objects of interest\n",
    "ooi = []  \n",
    "\n",
    "#check symmetry of sources\n",
    "for m in range(len(dec)):\n",
    "    if major[m]/minor[m] <= 1.1:\n",
    "        ps.append(m)\n",
    "    else:\n",
    "        ooi.append(m)\n",
    "\n",
    "print (len(ps))\n",
    "print (len(ooi))"
   ]
  },
  {
   "cell_type": "code",
   "execution_count": 14,
   "metadata": {},
   "outputs": [
    {
     "name": "stdout",
     "output_type": "stream",
     "text": [
      "19158\n"
     ]
    }
   ],
   "source": [
    "#check spread of source using peak/int values\n",
    "def check_integration(var):\n",
    "    ps = []\n",
    "    for m in range(len(var)):\n",
    "        if fint[m]/fpeak[m] <= 20:\n",
    "            ps.append(m)\n",
    "    return ps\n",
    "\n",
    "ind = check_integration(ooi)\n",
    "print (len(ind))"
   ]
  },
  {
   "cell_type": "code",
   "execution_count": 15,
   "metadata": {},
   "outputs": [
    {
     "name": "stdout",
     "output_type": "stream",
     "text": [
      "14224\n"
     ]
    }
   ],
   "source": [
    "def check_brightness(var):\n",
    "    ps = []\n",
    "    for m in range(len(var)):\n",
    "        if fpeak[m] >= 1.5:\n",
    "            ps.append(m)\n",
    "    return ps\n",
    "            \n",
    "ind = check_brightness(check_integration(ooi))\n",
    "print (len(ind))"
   ]
  },
  {
   "cell_type": "code",
   "execution_count": 16,
   "metadata": {},
   "outputs": [],
   "source": [
    "right = []\n",
    "decl = []\n",
    "for i in ind:\n",
    "    right.append(ra[i])\n",
    "    decl.append(dec[i])"
   ]
  },
  {
   "cell_type": "markdown",
   "metadata": {},
   "source": [
    "<font size = 3>Webscraper makes it easy to look through the images quickly and determine whether a certain 'filter' is picking out the sources we would expect."
   ]
  },
  {
   "cell_type": "code",
   "execution_count": 18,
   "metadata": {},
   "outputs": [],
   "source": [
    "#Webscraper - gets the images quickly so we can look through a few and \n",
    "#Open chrome and maximise\n",
    "driver = webdriver.Chrome()\n",
    "driver.maximize_window()\n",
    "\n",
    "#Get webpage that cutouts can be downloaded from\n",
    "driver.get(\"https://third.ucllnl.org/cgi-bin/firstcutout\")\n",
    "\n",
    "#Assign required image size (in arcmin) by finding image size element and changing its value\n",
    "size_arcmin = 5\n",
    "imagesize = driver.find_element_by_name('ImageSize')\n",
    "driver.execute_script(\"arguments[0].value=arguments[1]\",imagesize,'{}'.format(size_arcmin))\n",
    "\n",
    "#len(ra)\n",
    "#Loop to copy each RA and dec into the cutout search engine and download each image\n",
    "for i in range(len(decl)):\n",
    "    try:\n",
    "        #Finds search box and changes value to a string with RA and dec \n",
    "        radec = driver.find_element_by_name('RA')\n",
    "        driver.execute_script(\"arguments[0].value=arguments[1]\",radec,\"{}, {}\".format(right[i],decl[i]))\n",
    "        #Clicks on button to select download type to be a FITS image\n",
    "        fits_file = driver.find_elements_by_name('ImageType')[2]\n",
    "        fits_file.click()\n",
    "        #Clicks submit to download image\n",
    "        submit = driver.find_element_by_name('.submit')\n",
    "        submit.click()\n",
    "    except NoSuchElementException:\n",
    "        #Exception incase the input RA and dec are out of range of the database\n",
    "        #Resets the webpage and continues loop through remaining values\n",
    "        print ('Could not find element {}'.format(i))\n",
    "        driver.get(\"https://third.ucllnl.org/cgi-bin/firstcutout\")\n",
    "        time.sleep(3)\n",
    "        imagesize = driver.find_element_by_name('ImageSize') #in arcmins\n",
    "        driver.execute_script(\"arguments[0].value=arguments[1]\",imagesize,'{}'.format(size_arcmin))\n",
    "        continue"
   ]
  },
  {
   "cell_type": "code",
   "execution_count": 20,
   "metadata": {},
   "outputs": [],
   "source": [
    "def get_clipped_images(filepath,xpix,ypix,sigma):\n",
    "    '''\n",
    "    Put FITS data from desired folder into a 3D array\n",
    "    sigma = how many sigmas from the median background value to sigma clip the data to\n",
    "    '''\n",
    "    newpath = filepath.replace(os.sep, '/')\n",
    "    dirs = os.listdir(newpath)\n",
    "    n = len(dirs)\n",
    "    data = np.empty(shape=(n,xpix,ypix),dtype=np.float64)\n",
    "    for i in range(n):\n",
    "        fullpath = '{}/{}'.format(newpath,dirs[i])\n",
    "        d = fits.getdata(fullpath, ext=0)\n",
    "        d[np.isnan(d)] = 0\n",
    "        _,median,std = stats.sigma_clipped_stats(d, sigma=sigma)\n",
    "        d[d<median+sigma*std] = median+sigma*std\n",
    "        data[i,:,:] = d\n",
    "    return data"
   ]
  },
  {
   "cell_type": "code",
   "execution_count": 21,
   "metadata": {},
   "outputs": [],
   "source": [
    "import numpy as np\n",
    "import os\n",
    "from astropy.io import fits \n",
    "from astropy import stats\n",
    "from scipy.ndimage import rotate\n",
    "import matplotlib.pyplot as plt\n",
    "\n",
    "filepath = r'C:\\Users\\Cerys\\Documents\\Physics\\Y4 Project\\Semester 2\\close_sources'\n",
    "images = get_clipped_images(filepath,167,167,5)"
   ]
  },
  {
   "cell_type": "code",
   "execution_count": 29,
   "metadata": {},
   "outputs": [
    {
     "data": {
      "text/plain": [
       "14224"
      ]
     },
     "execution_count": 29,
     "metadata": {},
     "output_type": "execute_result"
    }
   ],
   "source": [
    "len(images)"
   ]
  },
  {
   "cell_type": "code",
   "execution_count": 77,
   "metadata": {
    "scrolled": false
   },
   "outputs": [
    {
     "data": {
      "image/png": "[encoded data removed]",
      "text/plain": [
       "<Figure size 907.2x180 with 1 Axes>"
      ]
     },
     "metadata": {
      "needs_background": "light"
     },
     "output_type": "display_data"
    }
   ],
   "source": [
    "n = 1 # number of objects to plot\n",
    "cols = 5 # number of objects per row\n",
    "rows = (n+cols-1)//cols # number of required rows in figure (division that rounds up)\n",
    "\n",
    "# Plots objects\n",
    "fig = plt.figure(figsize=(12.6,rows*2.5))\n",
    "for i in range(n):\n",
    "    ax = fig.add_subplot(rows, cols, i+1)\n",
    "    # need vmin and vmax to have the same colormap as the full image\n",
    "    ax.imshow(images[13722,42:125,42:125], cmap='viridis',origin='lower')\n",
    "    ax.text(10,10,'{}'.format(167),color='white')\n",
    "    plt.axis('off')\n",
    "\n",
    "fig.tight_layout(pad=0.1)\n",
    "plt.show()"
   ]
  },
  {
   "cell_type": "code",
   "execution_count": 29,
   "metadata": {},
   "outputs": [],
   "source": [
    "newimage = images[25,:,:]"
   ]
  },
  {
   "cell_type": "code",
   "execution_count": 30,
   "metadata": {},
   "outputs": [
    {
     "data": {
      "image/png": "[encoded data removed]",
      "text/plain": [
       "<Figure size 360x360 with 2 Axes>"
      ]
     },
     "metadata": {
      "needs_background": "light"
     },
     "output_type": "display_data"
    }
   ],
   "source": [
    "plt.figure(figsize=(5,5))\n",
    "plt.imshow(newimage,cmap='viridis',origin='lower')\n",
    "plt.colorbar()\n",
    "plt.show()"
   ]
  },
  {
   "cell_type": "code",
   "execution_count": 36,
   "metadata": {},
   "outputs": [
    {
     "name": "stdout",
     "output_type": "stream",
     "text": [
      "The objects are centred around pixel (83,83)\n"
     ]
    }
   ],
   "source": [
    "# crops to (roughly) the centre pixel\n",
    "# could make it a bit more accurate\n",
    "def centre_crop(images,original_y,original_x,new_y,new_x):\n",
    "    cropped_images = np.empty(shape=(len(images),new_y,new_x))\n",
    "    centre_y = int(original_y/2)\n",
    "    centre_x = int(original_x/2)\n",
    "    print ('The objects are centred around pixel ({},{})'.format(centre_y,centre_x))\n",
    "    half_y = int(new_y/2)\n",
    "    half_x = int(new_x/2)\n",
    "    ymin = centre_y - half_y\n",
    "    ymax = ymin + new_y\n",
    "    xmin = centre_x - half_x\n",
    "    xmax = xmin + new_x\n",
    "    for i in range(len(images)):\n",
    "        cropped_images[i,:,:] = images[i,ymin:ymax,xmin:xmax]\n",
    "    return cropped_images\n",
    "\n",
    "cropped_images = centre_crop(images,167,167,83,83)"
   ]
  },
  {
   "cell_type": "code",
   "execution_count": 37,
   "metadata": {},
   "outputs": [],
   "source": [
    "np.save('cropped_images.npy', cropped_images)"
   ]
  },
  {
   "cell_type": "code",
   "execution_count": null,
   "metadata": {},
   "outputs": [],
   "source": []
  }
 ],
 "metadata": {
  "kernelspec": {
   "display_name": "Python 3",
   "language": "python",
   "name": "python3"
  },
  "language_info": {
   "codemirror_mode": {
    "name": "ipython",
    "version": 3
   },
   "file_extension": ".py",
   "mimetype": "text/x-python",
   "name": "python",
   "nbconvert_exporter": "python",
   "pygments_lexer": "ipython3",
   "version": "3.7.3"
  }
 },
 "nbformat": 4,
 "nbformat_minor": 2
}

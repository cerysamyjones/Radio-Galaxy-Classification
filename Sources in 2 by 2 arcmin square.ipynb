{
 "cells": [
  {
   "cell_type": "code",
   "execution_count": 1,
   "metadata": {},
   "outputs": [],
   "source": [
    "import numpy as np \n",
    "import matplotlib.pyplot as plt\n",
    "import math"
   ]
  },
  {
   "cell_type": "code",
   "execution_count": 7,
   "metadata": {},
   "outputs": [
    {
     "name": "stdout",
     "output_type": "stream",
     "text": [
      "0.15537693722090887\n",
      "0.2893518518518518\n",
      "4.050925925925926\n"
     ]
    }
   ],
   "source": [
    "def no_of_sources(size,survey_size,survey_sources):\n",
    "    size = size/60\n",
    "    square = size**2\n",
    "    source_density = survey_sources/survey_size #number of sources per square degree\n",
    "    return source_density*square #find the \n",
    "\n",
    "mu_first = no_of_sources(2.5,10575,0.946432*10**6)\n",
    "mu_vlass = no_of_sources(2.5,30000,5*10**6)\n",
    "mu_ska = no_of_sources(2.5,30000,70*10**6)\n",
    "\n",
    "print (mu_first)\n",
    "print (mu_vlass)\n",
    "print (mu_ska)"
   ]
  },
  {
   "cell_type": "code",
   "execution_count": 8,
   "metadata": {
    "scrolled": true
   },
   "outputs": [
    {
     "data": {
      "image/png": "[encoded data removed]",
      "text/plain": [
       "<Figure size 1080x720 with 3 Axes>"
      ]
     },
     "metadata": {
      "needs_background": "light"
     },
     "output_type": "display_data"
    }
   ],
   "source": [
    "def poisson(mu,n):\n",
    "    distribution = np.empty(n)\n",
    "    for i in range(n):\n",
    "        dist = (np.exp(-mu)*mu**i)/math.factorial(i)\n",
    "        distribution[i] = dist\n",
    "    return distribution\n",
    "\n",
    "m = 20\n",
    "first = poisson(mu_first,m)\n",
    "vlass = poisson(mu_vlass,m)\n",
    "ska = poisson(mu_ska,m)\n",
    "\n",
    "n = np.linspace(0,m,m)\n",
    "\n",
    "plt.figure(figsize=(15,10))\n",
    "\n",
    "plt.subplot(331)\n",
    "plt.title('FIRST')\n",
    "plt.bar(n, first,color='firebrick',alpha=0.3)\n",
    "plt.plot(n, first,'-',color='black',alpha=0.7)\n",
    "plt.ylim(0,0.9)\n",
    "\n",
    "plt.subplot(332)\n",
    "plt.title('VLASS')\n",
    "plt.bar(n, vlass,color='slateblue',alpha=0.3)\n",
    "plt.plot(n, vlass,'-',color='black',alpha=0.7)\n",
    "plt.ylim(0,0.9)\n",
    "\n",
    "plt.subplot(333)\n",
    "plt.title('SKA')\n",
    "plt.bar(n, ska,color='darkgreen',alpha=0.3)\n",
    "plt.plot(n, ska,'-',color='black',alpha=0.7)\n",
    "plt.ylim(0,0.9)\n",
    "\n",
    "plt.show()"
   ]
  },
  {
   "cell_type": "code",
   "execution_count": 9,
   "metadata": {},
   "outputs": [
    {
     "name": "stdout",
     "output_type": "stream",
     "text": [
      "0.010890557689830244 probability of finding >1 sources in 2by2 arcmin FIRST cutout\n",
      "0.9120823066797707 probability of finding >1 sources in 2by2 arcmin SKA cutout\n",
      "Likely to find multiple sources per image once in every 91.82 FIRST cutouts\n",
      "Likely to find multiple sources per image once in every 1.1 SKA cutouts\n",
      "Around 83 times more likely to find multiple sources in a single SKA image than FIRST\n"
     ]
    }
   ],
   "source": [
    "first_sources = np.sum(first)-first[0]-first[1]\n",
    "ska_sources = np.sum(ska)-ska[0]-ska[1]\n",
    "\n",
    "print ('{} probability of finding >1 sources in 2by2 arcmin FIRST cutout'.format(first_sources))\n",
    "print ('{} probability of finding >1 sources in 2by2 arcmin SKA cutout'.format(ska_sources))\n",
    "\n",
    "chance_first = round(1/first_sources,2)\n",
    "chance_ska = round(1/ska_sources,2)\n",
    "\n",
    "print ('Likely to find multiple sources per image once in every {} FIRST cutouts'.format(chance_first))\n",
    "print ('Likely to find multiple sources per image once in every {} SKA cutouts'.format(chance_ska))\n",
    "\n",
    "print ('Around {} times more likely to find multiple sources in a single SKA image than FIRST'.format(int(round(chance_first/chance_ska,0))))"
   ]
  },
  {
   "cell_type": "code",
   "execution_count": null,
   "metadata": {},
   "outputs": [],
   "source": []
  }
 ],
 "metadata": {
  "kernelspec": {
   "display_name": "Python 3",
   "language": "python",
   "name": "python3"
  },
  "language_info": {
   "codemirror_mode": {
    "name": "ipython",
    "version": 3
   },
   "file_extension": ".py",
   "mimetype": "text/x-python",
   "name": "python",
   "nbconvert_exporter": "python",
   "pygments_lexer": "ipython3",
   "version": "3.7.3"
  }
 },
 "nbformat": 4,
 "nbformat_minor": 2
}
